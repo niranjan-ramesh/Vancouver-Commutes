{
 "cells": [
  {
   "cell_type": "code",
   "execution_count": 1,
   "metadata": {},
   "outputs": [],
   "source": [
    "import numpy as np\n",
    "import pandas as pd\n",
    "import json\n",
    "import random"
   ]
  },
  {
   "cell_type": "code",
   "execution_count": 2,
   "metadata": {},
   "outputs": [],
   "source": [
    "area_list = [\"Dunbar Southlands\", \"Hastings-Sunrise\", \"Mount Pleasant\", \"Fairview\", \"Downtown\", \"West End\", \"Killarney\", \"Kerrisdale\", \"Sunset\", \"Marpole\", \"Kitsilano\", \"Victoria-Fraserview\", \"West Point Grey\", \"Kensington-Cedar Cottage\", \"Renfrew-Collingwood\", \"Oakridge\", \"Riley Park\", \"Shaughnessy\", \"Grandview-Woodland\", \"Arbutus Ridge\", \"South Cambie\", \"Strathcona\"]\n",
    "time_list = ['5AM','6AM','7AM','8AM','9AM','10AM','11AM','12PM','1PM','2PM', '3PM','4PM','5PM','6PM','7PM','8PM','9PM','10PM','11PM', '12AM']\n",
    "\n"
   ]
  },
  {
   "cell_type": "code",
   "execution_count": 3,
   "metadata": {},
   "outputs": [],
   "source": [
    "office = ['8AM', '9AM','10AM', '5PM', '6PM', '7PM']"
   ]
  },
  {
   "cell_type": "code",
   "execution_count": 4,
   "metadata": {},
   "outputs": [],
   "source": [
    "origin_list = []\n",
    "origin_dict = {}\n",
    "\n",
    "for origin in area_list:\n",
    "    # Destination Open\n",
    "    dest_list = []\n",
    "    dest_dict = {}\n",
    "    for destination in area_list:\n",
    "        # Fequency Open\n",
    "        freq_dict = {}\n",
    "        frequency = []\n",
    "\n",
    "        if (origin == destination):\n",
    "            continue\n",
    "\n",
    "        for time in time_list:\n",
    "            if (time in office):\n",
    "                freq =  {\n",
    "                            \"time\" : time,\n",
    "                            \"buses\" : random.randint(4,6)\n",
    "                        }\n",
    "            else:\n",
    "                freq =  {\n",
    "                                \"time\" : time,\n",
    "                                \"buses\" : random.randint(2,4)\n",
    "                            }\n",
    "            frequency.append(freq)\n",
    "        # Fequency Close\n",
    "        dests = {\n",
    "        \"destination\" : destination, \n",
    "        \"frequency\" : frequency}\n",
    "        dest_list.append(dests)\n",
    "    #Destination Close\n",
    "    origin_dict.update({origin:dest_list})\n",
    "    #origin_dict.update(origins)\n",
    "\n",
    "\n",
    "with open(\"./Final Data/bus-frequency.json\", \"w\") as outfile:\n",
    "        json.dump(origin_dict, outfile, indent=4)"
   ]
  },
  {
   "cell_type": "code",
   "execution_count": null,
   "metadata": {},
   "outputs": [],
   "source": []
  }
 ],
 "metadata": {
  "interpreter": {
   "hash": "9f2e67fa16098141e05fdb6a7511c56c7361702189dedaf42178dc9062196e41"
  },
  "kernelspec": {
   "display_name": "Python 3.9.7 ('base')",
   "language": "python",
   "name": "python3"
  },
  "language_info": {
   "codemirror_mode": {
    "name": "ipython",
    "version": 3
   },
   "file_extension": ".py",
   "mimetype": "text/x-python",
   "name": "python",
   "nbconvert_exporter": "python",
   "pygments_lexer": "ipython3",
   "version": "3.9.7"
  },
  "orig_nbformat": 4
 },
 "nbformat": 4,
 "nbformat_minor": 2
}
